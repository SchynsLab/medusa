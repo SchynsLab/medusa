{
 "cells": [
  {
   "cell_type": "code",
   "execution_count": 1,
   "metadata": {},
   "outputs": [],
   "source": [
    "import os\n",
    "os.environ['PYOPENGL_PLATFORM'] = 'egl'\n",
    "import matplotlib.pyplot as plt\n",
    "from sklearn.decomposition import PCA\n",
    "from medusa.data import get_example_h5\n",
    "from medusa.preproc import align\n",
    "from copy import deepcopy\n",
    "plt.rcParams['figure.facecolor'] = 'white'\n",
    "import numpy as np"
   ]
  },
  {
   "cell_type": "code",
   "execution_count": 2,
   "metadata": {},
   "outputs": [
    {
     "name": "stderr",
     "output_type": "stream",
     "text": [
      "2022-08-15 15:26 [INFO   ]  Align frames: 100%|██████████| 232/232 [00:00<00:00, 6982.53it/s]\n"
     ]
    }
   ],
   "source": [
    "data = get_example_h5(load=True, model='mediapipe')\n",
    "data_aligned = align(deepcopy(data))\n",
    "\n",
    "from medusa.render import Renderer\n",
    "renderer = Renderer(data.img_size, camera_type='intrinsic', smooth=False)"
   ]
  },
  {
   "cell_type": "code",
   "execution_count": null,
   "metadata": {},
   "outputs": [],
   "source": [
    "glob_mot = data.decompose_mats()\n",
    "glob_mot = glob_mot - glob_mot.iloc[0, :]\n",
    "trans = glob_mot.loc[:, ['Trans. X', 'Trans. Y', 'Trans. Z']]\n",
    "rot = glob_mot.loc[:, ['Rot. X (deg)', 'Rot. Y (deg)', 'Rot. Z (deg)']]\n",
    "rot.columns = ['Rot. X', 'Rot. Y', 'Rot. Z']\n",
    "\n",
    "fig, ax = plt.subplots(figsize=(15, 5))\n",
    "ax.plot(trans, lw=3)\n",
    "ax.set_ylabel('Translation (mm.)', fontsize=20)\n",
    "ax.set_ylim(-4, 4)\n",
    "ax.set_yticks([-4, 0, 4])\n",
    "ax.tick_params(axis='y', labelsize=15)\n",
    "\n",
    "ax.legend(trans.columns, frameon=False, fontsize=15, loc=2)\n",
    "ax.axhline(0., ls='--', c='k')\n",
    "\n",
    "ax2 = ax.twinx()\n",
    "ax2.set_ylabel('Rotation (deg.)', fontsize=20)\n",
    "ax2.set_ylim(-30, 30)\n",
    "ax2.set_yticks([-30, 0, 30])\n",
    "ax2.tick_params(axis='y', labelsize=15)\n",
    "\n",
    "ax2.plot(rot, lw=3, ls='-.')\n",
    "ax2.legend(rot.columns, frameon=False, fontsize=15, loc=3)\n",
    "\n",
    "ax2.set_xlim(-1, glob_mot.shape[0])\n",
    "ax.spines['top'].set_visible(False)\n",
    "ax2.spines['top'].set_visible(False)\n",
    "ax.set_xlabel('Time (frames)', fontsize=20)\n",
    "ax2.set_xlabel('Time (frames)', fontsize=20)"
   ]
  },
  {
   "cell_type": "code",
   "execution_count": null,
   "metadata": {},
   "outputs": [],
   "source": [
    "v = data_aligned.v\n",
    "v = v - v[0, :, :]\n",
    "mask = np.abs(v * 10).max(axis=0) > 8\n",
    "\n",
    "fig, ax = plt.subplots(figsize=(15, 5))\n",
    "plt.plot(v[:, np.random.randint(468, size=5), 0], c='tab:orange')\n",
    "plt.plot(v[:, np.random.randint(468, size=5), 1], c='tab:blue')\n",
    "plt.plot(v[:, np.random.randint(468, size=5), 2], c='tab:green')\n",
    "#plt.plot(v[:, mask[:, 0], 0], c='r')\n",
    "#plt.plot(v[:, mask[:, 1], 1], c='g')\n",
    "#plt.plot(v[:, mask[:, 2], 2], c='b')\n"
   ]
  },
  {
   "cell_type": "code",
   "execution_count": 3,
   "metadata": {},
   "outputs": [],
   "source": [
    "from trimesh.geometry import mean_vertex_normals\n",
    "from trimesh.triangles import normals, cross\n",
    "\n",
    "triangles = data_aligned.v[0, :, :][data_aligned.f]\n",
    "crosses = cross(triangles)\n",
    "face_normals, valid = normals(triangles, crosses)\n",
    "vnorms = mean_vertex_normals(468, data_aligned.f, face_normals)"
   ]
  },
  {
   "cell_type": "code",
   "execution_count": 25,
   "metadata": {},
   "outputs": [],
   "source": [
    "pca = PCA(n_components=5)\n",
    "v = data_aligned.v.reshape(len(data), -1) * 10\n",
    "v = v - v[0, :]\n",
    "v_pca = pca.fit_transform(v)\n",
    "overlay = (pca.components_[3, :].reshape((468, 3)) * vnorms).sum(axis=1)\n",
    "face_colors = overlay[data_aligned.f].mean(axis=1)\n",
    "face_colors = (face_colors - face_colors.min()) / (face_colors.max() - face_colors.min())\n",
    "face_colors = plt.get_cmap('bwr')(face_colors)"
   ]
  },
  {
   "cell_type": "code",
   "execution_count": 27,
   "metadata": {},
   "outputs": [
    {
     "ename": "ValueError",
     "evalue": "Cannot infer whether overlay refers to vertices or faces (polygons)!",
     "output_type": "error",
     "traceback": [
      "\u001b[0;31m---------------------------------------------------------------------------\u001b[0m",
      "\u001b[0;31mValueError\u001b[0m                                Traceback (most recent call last)",
      "\u001b[1;32m/home/lukass/medusa/medusa/sandbox/figures.ipynb Cell 7\u001b[0m in \u001b[0;36m<cell line: 9>\u001b[0;34m()\u001b[0m\n\u001b[1;32m      <a href='vscode-notebook-cell://ssh-remote%2Bdeepnet7/home/lukass/medusa/medusa/sandbox/figures.ipynb#ch0000005vscode-remote?line=6'>7</a>\u001b[0m overlay_ \u001b[39m=\u001b[39m plt\u001b[39m.\u001b[39mget_cmap(\u001b[39m'\u001b[39m\u001b[39mbwr\u001b[39m\u001b[39m'\u001b[39m)(overlay)\n\u001b[1;32m      <a href='vscode-notebook-cell://ssh-remote%2Bdeepnet7/home/lukass/medusa/medusa/sandbox/figures.ipynb#ch0000005vscode-remote?line=7'>8</a>\u001b[0m overlay_[np\u001b[39m.\u001b[39mlogical_and(overlay \u001b[39m<\u001b[39m \u001b[39m0.6\u001b[39m, overlay \u001b[39m>\u001b[39m \u001b[39m0.4\u001b[39m)] \u001b[39m=\u001b[39m [\u001b[39m0.5\u001b[39m, \u001b[39m0.5\u001b[39m, \u001b[39m0.5\u001b[39m, \u001b[39m0\u001b[39m]\n\u001b[0;32m----> <a href='vscode-notebook-cell://ssh-remote%2Bdeepnet7/home/lukass/medusa/medusa/sandbox/figures.ipynb#ch0000005vscode-remote?line=8'>9</a>\u001b[0m img \u001b[39m=\u001b[39m renderer(data\u001b[39m.\u001b[39;49mv[\u001b[39m0\u001b[39;49m, :, :], data\u001b[39m.\u001b[39;49mf, overlay\u001b[39m=\u001b[39;49mface_colors)\n\u001b[1;32m     <a href='vscode-notebook-cell://ssh-remote%2Bdeepnet7/home/lukass/medusa/medusa/sandbox/figures.ipynb#ch0000005vscode-remote?line=9'>10</a>\u001b[0m plt\u001b[39m.\u001b[39mimshow(img)\n\u001b[1;32m     <a href='vscode-notebook-cell://ssh-remote%2Bdeepnet7/home/lukass/medusa/medusa/sandbox/figures.ipynb#ch0000005vscode-remote?line=10'>11</a>\u001b[0m plt\u001b[39m.\u001b[39maxis(\u001b[39m'\u001b[39m\u001b[39moff\u001b[39m\u001b[39m'\u001b[39m)\n",
      "File \u001b[0;32m~/medusa/medusa/medusa/render.py:121\u001b[0m, in \u001b[0;36mRenderer.__call__\u001b[0;34m(self, v, f, overlay, cmap_name)\u001b[0m\n\u001b[1;32m    119\u001b[0m         kwargs[\u001b[39m'\u001b[39m\u001b[39mvertex_colors\u001b[39m\u001b[39m'\u001b[39m] \u001b[39m=\u001b[39m overlay\n\u001b[1;32m    120\u001b[0m     \u001b[39melse\u001b[39;00m:\n\u001b[0;32m--> 121\u001b[0m         \u001b[39mraise\u001b[39;00m \u001b[39mValueError\u001b[39;00m(\u001b[39m\"\u001b[39m\u001b[39mCannot infer whether overlay refers to vertices or \u001b[39m\u001b[39m\"\u001b[39m\n\u001b[1;32m    122\u001b[0m                          \u001b[39m\"\u001b[39m\u001b[39mfaces (polygons)!\u001b[39m\u001b[39m\"\u001b[39m)\n\u001b[1;32m    124\u001b[0m mesh \u001b[39m=\u001b[39m Trimesh(v, f, \u001b[39m*\u001b[39m\u001b[39m*\u001b[39mkwargs)\n\u001b[1;32m    125\u001b[0m mesh \u001b[39m=\u001b[39m Mesh\u001b[39m.\u001b[39mfrom_trimesh(mesh, smooth\u001b[39m=\u001b[39m\u001b[39mself\u001b[39m\u001b[39m.\u001b[39msmooth, wireframe\u001b[39m=\u001b[39m\u001b[39mself\u001b[39m\u001b[39m.\u001b[39mwireframe)\n",
      "\u001b[0;31mValueError\u001b[0m: Cannot infer whether overlay refers to vertices or faces (polygons)!"
     ]
    }
   ],
   "source": [
    "pca = PCA(n_components=5)\n",
    "v = data_aligned.v.reshape(len(data), -1)\n",
    "v = v - v[0, :]\n",
    "v_pca = pca.fit_transform(v)\n",
    "overlay = (pca.components_[3, :].reshape((468, 3)) * vnorms).sum(axis=1)\n",
    "overlay = overlay.round(2) * 10 + 0.5\n",
    "overlay_ = plt.get_cmap('bwr')(overlay)\n",
    "overlay_[np.logical_and(overlay < 0.6, overlay > 0.4)] = [0.5, 0.5, 0.5, 0]\n",
    "img = renderer(data.v[0, :, :], data.f, overlay=face_colors)\n",
    "plt.imshow(img)\n",
    "plt.axis('off')"
   ]
  },
  {
   "cell_type": "code",
   "execution_count": 28,
   "metadata": {},
   "outputs": [
    {
     "data": {
      "text/plain": [
       "(898, 4)"
      ]
     },
     "execution_count": 28,
     "metadata": {},
     "output_type": "execute_result"
    }
   ],
   "source": [
    "face_colors.shape"
   ]
  },
  {
   "cell_type": "code",
   "execution_count": null,
   "metadata": {},
   "outputs": [],
   "source": []
  }
 ],
 "metadata": {
  "kernelspec": {
   "display_name": "Python 3.9.12 ('gmfx')",
   "language": "python",
   "name": "python3"
  },
  "language_info": {
   "codemirror_mode": {
    "name": "ipython",
    "version": 3
   },
   "file_extension": ".py",
   "mimetype": "text/x-python",
   "name": "python",
   "nbconvert_exporter": "python",
   "pygments_lexer": "ipython3",
   "version": "3.9.12"
  },
  "orig_nbformat": 4,
  "vscode": {
   "interpreter": {
    "hash": "a5a37db451e33eb29474ac52e4edb908f4b3931f10e8cd1adb5e8d6f1c0c54fc"
   }
  }
 },
 "nbformat": 4,
 "nbformat_minor": 2
}
