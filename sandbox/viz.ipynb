{
 "cells": [
  {
   "cell_type": "code",
   "execution_count": 6,
   "metadata": {},
   "outputs": [],
   "source": [
    "import os\n",
    "os.environ['PYOPENGL_PLATFORM'] = 'egl'\n",
    "\n",
    "from medusa.data import get_example_h5\n",
    "from trimesh import Trimesh\n",
    "\n",
    "from pyrender.constants import RenderFlags\n",
    "from pyrender import Scene, Mesh, Node, OffscreenRenderer\n",
    "from pyrender import DirectionalLight, IntrinsicsCamera, OrthographicCamera"
   ]
  },
  {
   "cell_type": "code",
   "execution_count": 10,
   "metadata": {},
   "outputs": [],
   "source": [
    "data = get_example_h5(load=True, model='mediapipe')\n",
    "w, h = data.img_size\n",
    "renderer = OffscreenRenderer(viewport_width=w, viewport_height=h)\n",
    "fx, fy = w, w\n",
    "camera = IntrinsicsCamera(fx=fx, fy=fy, cx=w / 2, cy=h / 2, zfar=300)\n",
    "camera_node = Node(camera=camera, matrix=data.cam_mat)\n",
    "light = DirectionalLight(intensity=5)\n",
    "light_node = Node(light=light, matrix=data.cam_mat)"
   ]
  },
  {
   "cell_type": "code",
   "execution_count": 7,
   "metadata": {},
   "outputs": [
    {
     "data": {
      "text/plain": [
       "<pyrender.scene.Scene at 0x7fae085745e0>"
      ]
     },
     "execution_count": 7,
     "metadata": {},
     "output_type": "execute_result"
    }
   ],
   "source": [
    "scene = Scene(bg_color=[0, 0, 0, 0], ambient_light=(255, 255, 255))\n",
    "scene.add_node(camera_node)\n",
    "scene.add_node(light_node)\n",
    "\n",
    "mesh = Trimesh(data.v[0, ...], data.f, **kwargs)\n",
    "mesh = Mesh.from_trimesh(mesh, smooth=False, wireframe=False)\n",
    "\n",
    "# Set to red, because the default isn't very well visible\n",
    "#red = np.array([1.0, 0.0, 0.0, 1], dtype=np.float32)\n",
    "#mesh.primitives[0].material.baseColorFactor = red\n",
    "\n",
    "mesh_node = Node(mesh=mesh)\n",
    "scene.add_node(mesh_node)\n",
    "img, _ = renderer.render(scene, flags=RenderFlags.RGBA)\n",
    "scene.remove_node(mesh_node)\n"
   ]
  },
  {
   "cell_type": "code",
   "execution_count": null,
   "metadata": {},
   "outputs": [],
   "source": []
  }
 ],
 "metadata": {
  "kernelspec": {
   "display_name": "Python 3.9.13 ('medusa')",
   "language": "python",
   "name": "python3"
  },
  "language_info": {
   "codemirror_mode": {
    "name": "ipython",
    "version": 3
   },
   "file_extension": ".py",
   "mimetype": "text/x-python",
   "name": "python",
   "nbconvert_exporter": "python",
   "pygments_lexer": "ipython3",
   "version": "3.9.13"
  },
  "orig_nbformat": 4,
  "vscode": {
   "interpreter": {
    "hash": "0a1fe4ecb158ede289866924cdf5c951eb1c9bf4cc83e0fc26b1138d86cd1726"
   }
  }
 },
 "nbformat": 4,
 "nbformat_minor": 2
}
