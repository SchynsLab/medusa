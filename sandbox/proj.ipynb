{
 "cells": [
  {
   "cell_type": "code",
   "execution_count": 48,
   "metadata": {},
   "outputs": [],
   "source": [
    "import os\n",
    "os.environ['DISPLAY'] = ':0.0'\n",
    "import trimesh\n",
    "import numpy as np\n",
    "import matplotlib.pyplot as plt\n",
    "from pyrender import OrthographicCamera, Scene, OffscreenRenderer, Node, Mesh, SpotLight, DirectionalLight\n",
    "from trimesh.transformations import transform_points\n",
    "\n",
    "np.set_printoptions(suppress=True)"
   ]
  },
  {
   "cell_type": "code",
   "execution_count": 80,
   "metadata": {},
   "outputs": [
    {
     "data": {
      "image/png": "[encoded data removed]",
      "text/plain": [
       "<Figure size 432x288 with 1 Axes>"
      ]
     },
     "metadata": {
      "needs_background": "light"
     },
     "output_type": "display_data"
    }
   ],
   "source": [
    "# Create pyrender-compatible mesh\n",
    "mesh = trimesh.creation.icosahedron()\n",
    "mesh.vertices[:, 2] -= 1\n",
    "mesh.vertices *= 0.5\n",
    "mesh_pr = Mesh.from_trimesh(mesh, smooth=False)\n",
    "\n",
    "# Create scene and add head\n",
    "scene = Scene(bg_color=[0, 0, 0])\n",
    "head = Node(mesh=mesh_pr)\n",
    "scene.add_node(head)\n",
    "\n",
    "camera = OrthographicCamera(xmag=1, ymag=1)\n",
    "zoom_out = 0\n",
    "scene.add_node(Node(camera=camera))\n",
    "\n",
    "# Create spotlight, directly in front of head (so need to translate)\n",
    "# Also zoom out in z-direction\n",
    "light = DirectionalLight(intensity=5)\n",
    "scene.add_node(Node(light=light))\n",
    "\n",
    "# Create renderer with viewport of the same size as original image\n",
    "r = OffscreenRenderer(viewport_width=512, viewport_height=512)\n",
    "color, depth = r.render(scene)\n",
    "\n",
    "plt.imshow(color)\n",
    "plt.axis('off');"
   ]
  },
  {
   "cell_type": "code",
   "execution_count": 83,
   "metadata": {},
   "outputs": [
    {
     "data": {
      "text/plain": [
       "<matplotlib.collections.PathCollection at 0x7fb41553a760>"
      ]
     },
     "execution_count": 83,
     "metadata": {},
     "output_type": "execute_result"
    },
    {
     "data": {
      "image/png": "[encoded data removed]",
      "text/plain": [
       "<Figure size 432x288 with 1 Axes>"
      ]
     },
     "metadata": {
      "needs_background": "light"
     },
     "output_type": "display_data"
    }
   ],
   "source": [
    "v = mesh.vertices\n",
    "P = OrthographicCamera(xmag=1, ymag=1).get_projection_matrix(512, 512)\n",
    "v = np.c_[v, np.ones(12)] @ P.T\n",
    "v = v[:, :2]\n",
    "v[:, 1] = -v[:, 1]\n",
    "v = v * 0.5 + 0.5\n",
    "v *= 512\n",
    "\n",
    "plt.imshow(color)\n",
    "plt.scatter(v[:, 0], v[:, 1])"
   ]
  },
  {
   "cell_type": "code",
   "execution_count": 82,
   "metadata": {},
   "outputs": [
    {
     "data": {
      "text/plain": [
       "array([[ 1.        ,  0.        ,  0.        ,  0.        ],\n",
       "       [ 0.        ,  1.        ,  0.        ,  0.        ],\n",
       "       [ 0.        ,  0.        , -0.02001001, -1.0010005 ],\n",
       "       [ 0.        ,  0.        ,  0.        ,  1.        ]])"
      ]
     },
     "execution_count": 82,
     "metadata": {},
     "output_type": "execute_result"
    }
   ],
   "source": [
    "P = np.array([\n",
    "    [],\n",
    "    [],\n",
    "    []\n",
    "])"
   ]
  },
  {
   "cell_type": "code",
   "execution_count": null,
   "metadata": {},
   "outputs": [],
   "source": []
  }
 ],
 "metadata": {
  "interpreter": {
   "hash": "a5a37db451e33eb29474ac52e4edb908f4b3931f10e8cd1adb5e8d6f1c0c54fc"
  },
  "kernelspec": {
   "display_name": "Python 3.9.12 ('gmfx')",
   "language": "python",
   "name": "python3"
  },
  "language_info": {
   "codemirror_mode": {
    "name": "ipython",
    "version": 3
   },
   "file_extension": ".py",
   "mimetype": "text/x-python",
   "name": "python",
   "nbconvert_exporter": "python",
   "pygments_lexer": "ipython3",
   "version": "3.9.12"
  },
  "orig_nbformat": 4
 },
 "nbformat": 4,
 "nbformat_minor": 2
}
