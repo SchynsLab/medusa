{
 "cells": [
  {
   "cell_type": "code",
   "execution_count": null,
   "id": "549c7186",
   "metadata": {},
   "outputs": [],
   "source": [
    "import numpy as np\n",
    "import pandas as pd\n",
    "from viz import plot_shape\n",
    "from constants import FACES\n",
    "from nilearn.glm.first_level import run_glm\n",
    "from nilearn.glm import compute_contrast\n",
    "import matplotlib.pyplot as plt\n",
    "\n",
    "import os\n",
    "from glob import glob\n",
    "from nilearn import signal"
   ]
  },
  {
   "cell_type": "code",
   "execution_count": null,
   "id": "ad81ee8a",
   "metadata": {},
   "outputs": [],
   "source": [
    "v = np.load('face_derivatives/sub-01/filter/sub-01_desc-filter_shape.npy')[0]\n",
    "f = FACES\n",
    "figsize = (10, 8)\n",
    "color = 'lightgray'\n",
    "overlay = None\n",
    "lims = (-.15, .15)"
   ]
  },
  {
   "cell_type": "code",
   "execution_count": null,
   "id": "9cc4fba1",
   "metadata": {},
   "outputs": [],
   "source": [
    "fig = plt.figure(figsize=figsize)\n",
    "ax = fig.add_subplot(projection='3d')\n",
    "coll = ax.plot_trisurf(v[:, 0], v[:, 1], v[:, 2], triangles=f, color=color, antialiased=True, cmap=None)\n",
    "if overlay is not None:\n",
    "    coll.set_array(overlay)\n",
    "\n",
    "ax.view_init(90, -90)\n",
    "ax.set_xlim(*lims)\n",
    "ax.set_ylim(*lims)\n",
    "ax.set_zlim(*lims)\n",
    "ax.axis('off')"
   ]
  },
  {
   "cell_type": "markdown",
   "id": "7d89e9de",
   "metadata": {},
   "source": [
    "## Filtering"
   ]
  },
  {
   "cell_type": "code",
   "execution_count": null,
   "id": "cf421919",
   "metadata": {},
   "outputs": [],
   "source": [
    "data = np.load('face_derivatives/sub-01/interpolate/sub-01_desc-interp_shape.npy')\n",
    "data = data.reshape((data.shape[0], 5023 * 3))\n",
    "mu, std = data.mean(axis=0), data.std(axis=0)\n",
    "data_n = (data - mu) / std\n",
    "\n",
    "idx = 2\n",
    "fig, ax = plt.subplots(nrows=2, figsize=(18, 15))\n",
    "ax[0].plot(data_n[:, idx] * std[idx] + mu[idx]);\n",
    "\n",
    "data_n_clean = signal.clean(data_n, detrend=True, t_r=0.089, low_pass=3, high_pass=0.01, standardize=False)\n",
    "ax[1].plot(data_n_clean[:, idx] * std[idx] + mu[idx]);"
   ]
  },
  {
   "cell_type": "code",
   "execution_count": null,
   "id": "f8103093",
   "metadata": {},
   "outputs": [],
   "source": [
    "from sklearn.decomposition import PCA\n",
    "pca = PCA()\n",
    "pca_dat = pca.fit_transform(data_n_clean)\n",
    "\n",
    "plt.figure(figsize=(15, 5))\n",
    "plt.plot(pca_dat[:, 3])"
   ]
  },
  {
   "cell_type": "markdown",
   "id": "f96f9d10",
   "metadata": {},
   "source": [
    "## Analysis"
   ]
  },
  {
   "cell_type": "code",
   "execution_count": null,
   "id": "a9c477e6",
   "metadata": {},
   "outputs": [],
   "source": [
    "Y = np.load('face_derivatives/sub-01/filter/sub-01_desc-filter_shape.npy')\n",
    "C = pd.read_csv('face_derivatives/sub-01/align/sub-01_desc-align_parameters.csv')\n",
    "C['icept'] = 1\n",
    "\n",
    "labels, results = run_glm(Y.reshape((Y.shape[0], 5023 * 3)), C.to_numpy(), noise_model='ols')\n",
    "con = np.zeros(13)\n",
    "con[10] = 1\n",
    "con = compute_contrast(labels, results, con_val=con, contrast_type='t')"
   ]
  },
  {
   "cell_type": "code",
   "execution_count": null,
   "id": "495fc551",
   "metadata": {},
   "outputs": [],
   "source": [
    "ol = con.z_score().reshape((5023, 3))\n",
    "ol = ol[FACES].mean(axis=1)[:, 0]\n",
    "ol[np.abs(ol) < 3] = 0\n",
    "plot_shape(Y[0, :, :], FACES, overlay=ol)"
   ]
  },
  {
   "cell_type": "code",
   "execution_count": null,
   "id": "9bd6e5df",
   "metadata": {},
   "outputs": [],
   "source": [
    "ft = pd.read_csv('face_derivatives/sub-01/frame_times.tsv', sep='\\t')\n",
    "ev = pd.read_csv('exp_data/task-poc/sub-01/sub-01_task-poc_events.tsv', sep='\\t')\n",
    "ev = ev.loc[:, ['movement', 'trial_txt.started']].iloc[1:, :]\n",
    "ev = ev.rename({'movement': 'trial_type', 'trial_txt.started': 'onset'}, axis=1)\n",
    "ev['duration'] = 0.0001\n",
    "\n",
    "from nilearn.glm.first_level import make_first_level_design_matrix\n",
    "dm = make_first_level_design_matrix(\n",
    "    frame_times=ft['new_frame_times'].to_numpy(),\n",
    "    events=ev,\n",
    "    hrf_model='fir',\n",
    "    drift_model=None,\n",
    "    fir_delays=range(0, 40, 1)\n",
    ")\n",
    "conf = pd.read_csv('face_derivatives/sub-01/align/sub-01_desc-align_parameters.csv')\n",
    "conf.index = dm.index\n",
    "dm = pd.concat((dm, conf), axis=1)"
   ]
  },
  {
   "cell_type": "code",
   "execution_count": null,
   "id": "8c17cd1d",
   "metadata": {},
   "outputs": [],
   "source": [
    "plt.figure(figsize=(15, 4))\n",
    "plt.plot(dm.iloc[:, :-13]);"
   ]
  },
  {
   "cell_type": "code",
   "execution_count": null,
   "id": "25c156ce",
   "metadata": {},
   "outputs": [],
   "source": [
    "Y = np.load('face_derivatives/sub-01/filter/sub-01_desc-filter_shape.npy')\n",
    "\n",
    "labels, results = run_glm(Y.reshape((Y.shape[0], 5023 * 3)), dm.to_numpy(), noise_model='ols')\n",
    "con = np.zeros(dm.shape[1])\n",
    "con[5] = 1\n",
    "con = compute_contrast(labels, results, con_val=con, contrast_type='t')\n",
    "\n",
    "#ol = con.z_score().reshape((5023, 3))\n",
    "#ol = ol[FACES].mean(axis=1)[:, 1]\n",
    "#ol[np.abs(ol) < 5] = 0\n",
    "ol = results[0].r_square.reshape((5023, 3))\n",
    "ol = ol[FACES].mean(axis=1)[:, 2]\n",
    "plot_shape(Y[0, :, :], FACES, overlay=ol)"
   ]
  },
  {
   "cell_type": "code",
   "execution_count": null,
   "id": "f3a2e9ec",
   "metadata": {},
   "outputs": [],
   "source": [
    "rr = results[0]\n",
    "\n",
    "plt.figure(figsize=(15, 3))\n",
    "b = rr.theta[:40].reshape((40, 5023, 3))[:, :, 1]\n",
    "b = (b - b.mean(axis=0)) / b.std(axis=0)\n",
    "bp = pca.fit_transform(b)\n",
    "bp = (bp - bp.mean(axis=0)) / bp.std(axis=0)\n",
    "plt.plot(bp[:, :2])\n",
    "plt.show()"
   ]
  }
 ],
 "metadata": {
  "kernelspec": {
   "display_name": "Python 3 (ipykernel)",
   "language": "python",
   "name": "python3"
  },
  "language_info": {
   "codemirror_mode": {
    "name": "ipython",
    "version": 3
   },
   "file_extension": ".py",
   "mimetype": "text/x-python",
   "name": "python",
   "nbconvert_exporter": "python",
   "pygments_lexer": "ipython3",
   "version": "3.8.12"
  },
  "toc": {
   "base_numbering": 1,
   "nav_menu": {},
   "number_sections": true,
   "sideBar": true,
   "skip_h1_title": true,
   "title_cell": "Table of Contents",
   "title_sidebar": "Contents",
   "toc_cell": false,
   "toc_position": {},
   "toc_section_display": true,
   "toc_window_display": false
  }
 },
 "nbformat": 4,
 "nbformat_minor": 5
}
