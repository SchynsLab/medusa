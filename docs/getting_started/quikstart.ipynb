{
 "cells": [
  {
   "cell_type": "markdown",
   "metadata": {},
   "source": [
    "# Quickstart"
   ]
  },
  {
   "cell_type": "markdown",
   "metadata": {},
   "source": [
    "Here, we'll go through a very basic example of reconstructing, preprocessing, and analyzing 3D face data from video data using Medusa. For more in depth information and examples, check out the other tutorials!"
   ]
  },
  {
   "cell_type": "markdown",
   "metadata": {},
   "source": [
    "We'll use a short video, rendered below:"
   ]
  },
  {
   "cell_type": "code",
   "execution_count": null,
   "metadata": {},
   "outputs": [],
   "source": [
    "from IPython.display import Video\n",
    "from medusa.data import get_example_video\n",
    "\n",
    "vid = get_example_video()\n",
    "Video(vid, embed=True)"
   ]
  },
  {
   "cell_type": "code",
   "execution_count": null,
   "metadata": {},
   "outputs": [],
   "source": [
    "from medusa.preproc import videorecon\n",
    "data = videorecon(vid, recon_model_name='mediapipe')"
   ]
  },
  {
   "cell_type": "code",
   "execution_count": null,
   "metadata": {},
   "outputs": [],
   "source": [
    "data.render_video(wireframe=True)"
   ]
  }
 ],
 "metadata": {
  "interpreter": {
   "hash": "a5a37db451e33eb29474ac52e4edb908f4b3931f10e8cd1adb5e8d6f1c0c54fc"
  },
  "kernelspec": {
   "display_name": "Python 3.9.12 ('gmfx')",
   "language": "python",
   "name": "python3"
  },
  "language_info": {
   "codemirror_mode": {
    "name": "ipython",
    "version": 3
   },
   "file_extension": ".py",
   "mimetype": "text/x-python",
   "name": "python",
   "nbconvert_exporter": "python",
   "pygments_lexer": "ipython3",
   "version": "3.9.12"
  }
 },
 "nbformat": 4,
 "nbformat_minor": 2
}
