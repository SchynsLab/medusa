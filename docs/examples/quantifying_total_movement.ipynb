{
 "cells": [
  {
   "attachments": {},
   "cell_type": "markdown",
   "metadata": {},
   "source": [
    "# Quantifying total movement"
   ]
  },
  {
   "cell_type": "code",
   "execution_count": 1,
   "metadata": {},
   "outputs": [],
   "source": [
    "from medusa.recon import videorecon"
   ]
  },
  {
   "cell_type": "code",
   "execution_count": 2,
   "metadata": {},
   "outputs": [
    {
     "name": "stderr",
     "output_type": "stream",
     "text": [
      "2023-02-28 09:47 [INFO   ]  Starting recon using for ./1G.mp4\n",
      "2023-02-28 09:47 [INFO   ]  Initializing emoca-coarse recon model\n",
      "2023-02-28 09:47 [INFO   ]  Recon images: 100%|██████████| 6/6 [00:03<00:00,  1.84it/s]\n"
     ]
    }
   ],
   "source": [
    "data = videorecon('./1G.mp4', recon_model='emoca-coarse', device='cuda')"
   ]
  },
  {
   "cell_type": "code",
   "execution_count": 3,
   "metadata": {},
   "outputs": [
    {
     "name": "stderr",
     "output_type": "stream",
     "text": [
      "2023-02-28 09:48 [INFO   ]  Render shape:   0%|          | 0/190 [00:00<?, ?it/s]\n"
     ]
    },
    {
     "ename": "TypeError",
     "evalue": "tuple indices must be integers or slices, not tuple",
     "output_type": "error",
     "traceback": [
      "\u001b[0;31m---------------------------------------------------------------------------\u001b[0m",
      "\u001b[0;31mTypeError\u001b[0m                                 Traceback (most recent call last)",
      "Cell \u001b[0;32mIn[3], line 1\u001b[0m\n\u001b[0;32m----> 1\u001b[0m data\u001b[39m.\u001b[39;49mrender_video(\u001b[39m'\u001b[39;49m\u001b[39m./test.mp4\u001b[39;49m\u001b[39m'\u001b[39;49m, shading\u001b[39m=\u001b[39;49m\u001b[39m'\u001b[39;49m\u001b[39mflat\u001b[39;49m\u001b[39m'\u001b[39;49m)\n",
      "File \u001b[0;32m/analyse/Project0257/lukas/projects/medusa/medusa/medusa/containers/fourD.py:538\u001b[0m, in \u001b[0;36mData4D.render_video\u001b[0;34m(self, f_out, renderer, shading, video, alpha, **kwargs)\u001b[0m\n\u001b[1;32m    536\u001b[0m         v \u001b[39m=\u001b[39m \u001b[39mself\u001b[39m\u001b[39m.\u001b[39mv[img_idx]\n\u001b[1;32m    537\u001b[0m         img \u001b[39m=\u001b[39m renderer(v, \u001b[39mself\u001b[39m\u001b[39m.\u001b[39mtris, tex\u001b[39m=\u001b[39mtex_)\n\u001b[0;32m--> 538\u001b[0m         img \u001b[39m=\u001b[39m renderer\u001b[39m.\u001b[39;49malpha_blend(img, background, face_alpha\u001b[39m=\u001b[39;49malpha)\n\u001b[1;32m    540\u001b[0m     writer\u001b[39m.\u001b[39mwrite(img)\n\u001b[1;32m    542\u001b[0m renderer\u001b[39m.\u001b[39mclose()\n",
      "File \u001b[0;32m/analyse/Project0257/lukas/projects/medusa/medusa/medusa/render/base.py:76\u001b[0m, in \u001b[0;36mBaseRenderer.alpha_blend\u001b[0;34m(self, img, background, face_alpha)\u001b[0m\n\u001b[1;32m     56\u001b[0m \u001b[39mdef\u001b[39;00m \u001b[39malpha_blend\u001b[39m(\u001b[39mself\u001b[39m, img, background, face_alpha\u001b[39m=\u001b[39m\u001b[39mNone\u001b[39;00m):\n\u001b[1;32m     57\u001b[0m \u001b[39m    \u001b[39m\u001b[39m\"\"\"Simple alpha blend of a rendered image and a background. The image\u001b[39;00m\n\u001b[1;32m     58\u001b[0m \u001b[39m    (`img`) is assumed to be an RGBA image and the background\u001b[39;00m\n\u001b[1;32m     59\u001b[0m \u001b[39m    (`background`) is assumed to be a RGB image. The alpha channel of the\u001b[39;00m\n\u001b[0;32m   (...)\u001b[0m\n\u001b[1;32m     73\u001b[0m \u001b[39m        A blended image\u001b[39;00m\n\u001b[1;32m     74\u001b[0m \u001b[39m    \"\"\"\u001b[39;00m\n\u001b[0;32m---> 76\u001b[0m     alpha \u001b[39m=\u001b[39m img[\u001b[39m.\u001b[39;49m\u001b[39m.\u001b[39;49m\u001b[39m.\u001b[39;49m, \u001b[39m3\u001b[39;49m, \u001b[39mNone\u001b[39;49;00m] \u001b[39m/\u001b[39m \u001b[39m255.0\u001b[39m\n\u001b[1;32m     78\u001b[0m     \u001b[39mif\u001b[39;00m face_alpha \u001b[39mis\u001b[39;00m \u001b[39mnot\u001b[39;00m \u001b[39mNone\u001b[39;00m:\n\u001b[1;32m     79\u001b[0m         alpha[alpha \u001b[39m>\u001b[39m face_alpha] \u001b[39m=\u001b[39m face_alpha\n",
      "\u001b[0;31mTypeError\u001b[0m: tuple indices must be integers or slices, not tuple"
     ]
    }
   ],
   "source": [
    "data.render_video('./test.mp4', shading='flat')"
   ]
  },
  {
   "cell_type": "code",
   "execution_count": null,
   "metadata": {},
   "outputs": [],
   "source": []
  }
 ],
 "metadata": {
  "kernelspec": {
   "display_name": "medusa",
   "language": "python",
   "name": "python3"
  },
  "language_info": {
   "codemirror_mode": {
    "name": "ipython",
    "version": 3
   },
   "file_extension": ".py",
   "mimetype": "text/x-python",
   "name": "python",
   "nbconvert_exporter": "python",
   "pygments_lexer": "ipython3",
   "version": "3.9.15"
  },
  "orig_nbformat": 4,
  "vscode": {
   "interpreter": {
    "hash": "0a1fe4ecb158ede289866924cdf5c951eb1c9bf4cc83e0fc26b1138d86cd1726"
   }
  }
 },
 "nbformat": 4,
 "nbformat_minor": 2
}
