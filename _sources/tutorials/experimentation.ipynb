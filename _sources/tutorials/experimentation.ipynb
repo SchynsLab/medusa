{
 "cells": [
  {
   "cell_type": "markdown",
   "metadata": {},
   "source": [
    "# Designing experiments\n",
    "In this tutorial, we'll outline the requirements and some recommendations for designing and creating experiments in the context of using Medusa to analyze its data."
   ]
  }
 ],
 "metadata": {
  "language_info": {
   "name": "python"
  },
  "orig_nbformat": 4
 },
 "nbformat": 4,
 "nbformat_minor": 2
}
