{
 "cells": [
  {
   "cell_type": "markdown",
   "metadata": {},
   "source": [
    "# Rendering\n",
    "In this tutorial, we'll explain the ins and outs of rendering: the process of creating an image from 3D data."
   ]
  },
  {
   "attachments": {},
   "cell_type": "markdown",
   "metadata": {},
   "source": [
    "## 4D-to-video rendering\n",
    "\n",
    "In Medusa, we try to make it as easy as possible to render 4D reconstruction data as a video. As you might have seen in the [quickstart](../getting_started/quickstart), you can use a `VideoRenderer` object for this. Note that this renderer is only available if you have [pytorch3d](https://pytorch3d.org/) installed, which is unfortunately not possible on Windows at the moment."
   ]
  },
  {
   "cell_type": "code",
   "execution_count": null,
   "metadata": {},
   "outputs": [],
   "source": [
    "from medusa.render import VideoRenderer"
   ]
  },
  {
   "attachments": {},
   "cell_type": "markdown",
   "metadata": {},
   "source": [
    "The class constructor takes three arguments &mdash; `shading`, `lights`, and `loglevel`. We'll ignore the `lights` argument, which we'll discuss later.\n",
    "\n",
    "The `shading` argument can be either \"flat\", which creates a faceted look, or \"smooth\", which creates a smoother surface using [Phong shading](https://en.wikipedia.org/wiki/Phong_shading). We'll use smooth shading for now and set the loglevel to 'WARNING' (which does not output a progress bar which clutters the website):"
   ]
  },
  {
   "cell_type": "code",
   "execution_count": null,
   "metadata": {},
   "outputs": [],
   "source": [
    "renderer = VideoRenderer(shading='smooth', loglevel='WARNING')"
   ]
  },
  {
   "attachments": {},
   "cell_type": "markdown",
   "metadata": {},
   "source": [
    "The renderer expects the 4D reconstruction data to be wrapped in a `Data4D` object (see [data representation tutorial](./data_representation)). Let's load in the 4D reconstruction (by the 'emoca-coarse' model) from our default video:"
   ]
  },
  {
   "cell_type": "code",
   "execution_count": null,
   "metadata": {},
   "outputs": [],
   "source": [
    "from medusa.data import get_example_h5\n",
    "data_4d = get_example_h5(load=True, model='emoca-coarse')\n",
    "# We'll slice the Data4D object this way (resulting in only 50 frames) so that the \n",
    "# rendering is a bit faster for this tutorial\n",
    "data_4d = data_4d[:50]"
   ]
  },
  {
   "attachments": {},
   "cell_type": "markdown",
   "metadata": {},
   "source": [
    "To render the 4D data to a video, you use the `VideoRenderer` object's `__call__` method (i.e., calling `renderer()`). This method has two mandatory arguments:\n",
    "\n",
    "* `f_out`: path where the video will be saved\n",
    "* `data`: the `Data4D` object\n",
    "\n",
    "Additionally, this method accepts two optional arguments:\n",
    "\n",
    "* `video`: path to original video\n",
    "* `overlay`: colors to project onto the vertices before rendering\n",
    "\n",
    "If you set the `video` argument to the original video associated with the 4D reconstruction, then the video will be used as a background on which the 4D data is rendered. The default value is `None` (in case the data will be rendered on a white background). \n",
    "\n",
    "Let's render our data on top of the video!"
   ]
  },
  {
   "cell_type": "code",
   "execution_count": null,
   "metadata": {},
   "outputs": [],
   "source": [
    "from medusa.data import get_example_video\n",
    "from IPython.display import Video\n",
    "\n",
    "vid = get_example_video()\n",
    "f_out = './smooth.mp4'\n",
    "\n",
    "renderer(f_out, data_4d, video=vid)\n",
    "\n",
    "# Show result\n",
    "Video(f_out, embed=True)"
   ]
  },
  {
   "attachments": {},
   "cell_type": "markdown",
   "metadata": {},
   "source": [
    "One way to make the visualization a little nicer is by only rendering the face (rather than the full head). To do so, you can use the `apply_vertex_mask` method from the `Data4D` object with the `name` argument set to `'face'`:"
   ]
  },
  {
   "cell_type": "code",
   "execution_count": null,
   "metadata": {},
   "outputs": [],
   "source": [
    "data_4d.apply_vertex_mask('face')"
   ]
  },
  {
   "attachments": {},
   "cell_type": "markdown",
   "metadata": {},
   "source": [
    "This method basically removes all non-face vertices from the mesh, leaving us with 1787 vertices (instead of the original 5023):"
   ]
  },
  {
   "cell_type": "code",
   "execution_count": null,
   "metadata": {},
   "outputs": [],
   "source": [
    "tuple(data_4d.v.shape)"
   ]
  },
  {
   "attachments": {},
   "cell_type": "markdown",
   "metadata": {},
   "source": [
    "Now, let's re-render the data (which is a lot faster now too, as it has to work with fewer vertices):"
   ]
  },
  {
   "cell_type": "code",
   "execution_count": null,
   "metadata": {},
   "outputs": [],
   "source": [
    "renderer(f_out, data_4d, video=vid)\n",
    "Video(f_out, embed=True)"
   ]
  },
  {
   "attachments": {},
   "cell_type": "markdown",
   "metadata": {},
   "source": [
    "### Overlays\n",
    "\n",
    "So far, we only rendered the face as a grayish, untextured shape. We can, however, give it a different uniform color or specific color per vertex. To do so, we can give the `__call__` function an additional argument, `overlay`, a tensor with a single color per vertex. Colors need to be represented as RGB float values ranging from 0 to 1, so overlay should be a $V \\times 3$ tensor. \n",
    "\n",
    "To demonstrate, let's create an overlay that'll make the face bright red, which corresponds to an RGB value of [1., 0., 0.]:"
   ]
  },
  {
   "cell_type": "code",
   "execution_count": null,
   "metadata": {},
   "outputs": [],
   "source": [
    "import torch\n",
    "\n",
    "V = data_4d.v.shape[1]\n",
    "vertex_colors = torch.zeros((V, 3), device=data_4d.device)\n",
    "vertex_colors[:, 0] = 1.  # set 'red' channel to 1\n",
    "\n",
    "tuple(vertex_colors.shape)"
   ]
  },
  {
   "attachments": {},
   "cell_type": "markdown",
   "metadata": {},
   "source": [
    "Let's render the video again, but now with `vertex_colors` used for the `overlay` argument:"
   ]
  },
  {
   "cell_type": "code",
   "execution_count": null,
   "metadata": {},
   "outputs": [],
   "source": [
    "f_out = './test.mp4'\n",
    "renderer(f_out, data_4d, overlay=vertex_colors)\n",
    "Video(f_out, embed=True)"
   ]
  },
  {
   "attachments": {},
   "cell_type": "markdown",
   "metadata": {},
   "source": [
    "Note that we don't have to use the same colors for each time point! We can also create an overlay of shape $N$ (nr of frames) $\\times V \\times 3$, which specifies a specific color for each frame (and each vertex). To demonstrate, we'll generate random RGB values for each frame and vertex, creating quite a trippy visualization!"
   ]
  },
  {
   "cell_type": "code",
   "execution_count": null,
   "metadata": {},
   "outputs": [],
   "source": [
    "N = data_4d.v.shape[0]\n",
    "vertex_colors = torch.rand(N, V, 3, device='cuda')\n",
    "renderer(f_out, data_4d, overlay=vertex_colors)\n",
    "Video(f_out, embed=True)"
   ]
  },
  {
   "attachments": {},
   "cell_type": "markdown",
   "metadata": {},
   "source": [
    "Now suppose that we would like to color the face along a more interesting feature, like the amount of local movement relative to the first frame. We'll walk you through this example step by step.\n",
    "\n",
    "First, frame-by-frame movement can be computed as follows:"
   ]
  },
  {
   "cell_type": "code",
   "execution_count": null,
   "metadata": {},
   "outputs": [],
   "source": [
    "# To only show local deviations, we can use the to_local() method which projects out any \"global\" movement\n",
    "data_4d.to_local()\n",
    "local_mov = data_4d.v - data_4d.v[0, :, :]\n",
    "tuple(local_mov.shape)"
   ]
  },
  {
   "cell_type": "code",
   "execution_count": null,
   "metadata": {},
   "outputs": [],
   "source": [
    "from medusa.geometry import compute_vertex_normals\n",
    "normals = compute_vertex_normals(data_4d.v[0], data_4d.tris)\n",
    "local_mov_proj = (normals * local_mov).sum(dim=2)\n",
    "from matplotlib.colors import CenteredNorm\n",
    "from matplotlib import colormaps\n",
    "\n",
    "norm = CenteredNorm(vcenter=0.)\n",
    "cmap = colormaps['bwr']\n",
    "local_mov_proj = torch.as_tensor(cmap(norm(local_mov_proj.cpu().numpy()))[:, :, :3], device=data_4d.v.device, dtype=torch.float32)\n",
    "data_4d.to_world()\n",
    "renderer(f_out, data_4d, overlay=local_mov_proj)\n",
    "Video(f_out, embed=True)"
   ]
  },
  {
   "attachments": {},
   "cell_type": "markdown",
   "metadata": {},
   "source": [
    "## 3D-to-image rendering\n",
    "\n",
    "ToDo: explanation of the low(er)-level `PytorchRenderer` class that performs 3D-to-image rendering"
   ]
  }
 ],
 "metadata": {
  "kernelspec": {
   "display_name": "medusa",
   "language": "python",
   "name": "python3"
  },
  "language_info": {
   "codemirror_mode": {
    "name": "ipython",
    "version": 3
   },
   "file_extension": ".py",
   "mimetype": "text/x-python",
   "name": "python",
   "nbconvert_exporter": "python",
   "pygments_lexer": "ipython3",
   "version": "3.9.16"
  },
  "orig_nbformat": 4
 },
 "nbformat": 4,
 "nbformat_minor": 2
}
